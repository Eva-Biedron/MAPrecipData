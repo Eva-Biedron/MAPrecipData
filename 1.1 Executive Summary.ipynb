{
 "cells": [
  {
   "cell_type": "markdown",
   "id": "e7165751",
   "metadata": {},
   "source": [
    "# 1 Report on Predicting Boston-area Precipitation\n",
    "## 1.1 Exectutive Summary\n",
    "\n",
    "### Index of files\n",
    "1.1 Executive Summary\n",
    "1.2\n",
    "2.1 Formatting Raw Data\n",
    "2.2 Supplementing station data\n",
    "2.3 Selecting Single Stations\n",
    "3.1 Descriptive Statistics\n",
    "3.2 \n",
    "\n",
    "### Introductions\n",
    "\n",
    "As climate change impacts the frequency and intensity of rainfall events, predicting precipitation patterns will become even more important in preparing for and mitigating these changes. Whether preparing for floods or droughts, observing long-term patterns (the climate) allow us to predict specifically when and where we should expect precipitation or clear skies (the weather). Sufficiently long records of weather station data allow us to examine patterns, model cyclical behavior, and test predictions for specific climate measurements.\n",
    "\n",
    "Having lived in the Boston area for nearly five years, it feels like there's less rain every summer and less snow every winter. This results in water use and drought advisories. I want to investigate monthly precipitation patterns around Boston to understand and predict when the majority of monthly rain-/snow-fall is occurring. Here, I prepare precipitation datasets from three Boston-area weather stations, calculate descriptive statistics, and produce predictive preciptitation models for each station.\n",
    "\n",
    "### Method\n",
    "\n",
    "#### Data \n",
    "The 'Precipitation Database Data 2019' dataset is available from the Massachusetts Department of Conservation & Recreation's Office of Water Resources (https://www.mass.gov/info-details/precipitation-data). This dataset is comprised of observed monthly precipitation totals (in inches) for weather stations across Massachusetts. Here, snowfall is melted into equivalent inches of water and summed with any rainfall. GPS coordinates for stations are available upon request from the MA DCR; I associated each station with it's GPS coordinates, if available. \n",
    "\n",
    "#### Methods\n",
    "In section 2.1, I separated the 'Precipitation Database Data 2019' dataset into three separate tables of preciptiation, station, and basin data. Then in section 2.2, I supplemented the station data table with record completeness data (each station) and gps coordinates (if available). Section 2.3 details how I select and plot all stations with 30-year records between 1989 and 2019 and select and export three records from stations in Lynn, Cohasset, and Weymouth.\n",
    "\n",
    "In section 3.1, I calculate descriptive statistics for each station's record. I train and test THESE SPECIFIC models in sections 3.2.\n",
    "\n",
    "#### Models\n",
    "\n",
    "\n",
    "\n",
    "### Findings\n",
    "\n"
   ]
  },
  {
   "cell_type": "code",
   "execution_count": null,
   "id": "ae48b3f8",
   "metadata": {},
   "outputs": [],
   "source": []
  }
 ],
 "metadata": {
  "kernelspec": {
   "display_name": "Python 3 (ipykernel)",
   "language": "python",
   "name": "python3"
  },
  "language_info": {
   "codemirror_mode": {
    "name": "ipython",
    "version": 3
   },
   "file_extension": ".py",
   "mimetype": "text/x-python",
   "name": "python",
   "nbconvert_exporter": "python",
   "pygments_lexer": "ipython3",
   "version": "3.9.13"
  }
 },
 "nbformat": 4,
 "nbformat_minor": 5
}
