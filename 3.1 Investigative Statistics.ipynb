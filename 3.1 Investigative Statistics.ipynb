{
 "cells": [
  {
   "cell_type": "code",
   "execution_count": null,
   "id": "b9c5e560",
   "metadata": {},
   "outputs": [],
   "source": [
    "# 3 Data Analyses\n",
    "## 3.1 Investigative statistics\n",
    "### Set up environment"
   ]
  },
  {
   "cell_type": "code",
   "execution_count": 6,
   "id": "28ae3a3e",
   "metadata": {},
   "outputs": [],
   "source": [
    "# Import packages\n",
    "import copy\n",
    "import datetime\n",
    "import math\n",
    "import matplotlib as mpl\n",
    "import matplotlib.pyplot as plt\n",
    "import numpy as np\n",
    "import pandas as pd\n",
    "import seaborn as sns\n"
   ]
  },
  {
   "cell_type": "code",
   "execution_count": 15,
   "id": "b0f420ef",
   "metadata": {},
   "outputs": [],
   "source": [
    "# Load 30-year records from each target station.\n",
    "COH726 = pd.read_csv(r'C:/Users/15414/Documents/GitHub/MA Precip/MAPrecipData/Data_Products/COH726_30yr.csv')\n",
    "LYN614 = pd.read_csv(r'C:/Users/15414/Documents/GitHub/MA Precip/MAPrecipData/Data_Products/LYN614_30yr.csv')\n",
    "WEY738 = pd.read_csv(r'C:/Users/15414/Documents/GitHub/MA Precip/MAPrecipData/Data_Products/WEY738_30yr.csv')\n",
    "\n",
    "# Test: Record lengths are equal across datasets.\n",
    "assert (len(COH726) == len(LYN614)) & (len(WEY738) == len(LYN614)), \"Dataframes are unequal lengths.\"\n"
   ]
  },
  {
   "cell_type": "code",
   "execution_count": 17,
   "id": "97b87a2e",
   "metadata": {},
   "outputs": [
    {
     "data": {
      "text/html": [
       "<div>\n",
       "<style scoped>\n",
       "    .dataframe tbody tr th:only-of-type {\n",
       "        vertical-align: middle;\n",
       "    }\n",
       "\n",
       "    .dataframe tbody tr th {\n",
       "        vertical-align: top;\n",
       "    }\n",
       "\n",
       "    .dataframe thead th {\n",
       "        text-align: right;\n",
       "    }\n",
       "</style>\n",
       "<table border=\"1\" class=\"dataframe\">\n",
       "  <thead>\n",
       "    <tr style=\"text-align: right;\">\n",
       "      <th></th>\n",
       "      <th>Precipitation</th>\n",
       "    </tr>\n",
       "    <tr>\n",
       "      <th>Date</th>\n",
       "      <th></th>\n",
       "    </tr>\n",
       "  </thead>\n",
       "  <tbody>\n",
       "    <tr>\n",
       "      <th>1990-01-31</th>\n",
       "      <td>1.92</td>\n",
       "    </tr>\n",
       "    <tr>\n",
       "      <th>1990-02-28</th>\n",
       "      <td>0.89</td>\n",
       "    </tr>\n",
       "    <tr>\n",
       "      <th>1990-03-31</th>\n",
       "      <td>NaN</td>\n",
       "    </tr>\n",
       "    <tr>\n",
       "      <th>1990-04-30</th>\n",
       "      <td>NaN</td>\n",
       "    </tr>\n",
       "    <tr>\n",
       "      <th>1990-05-31</th>\n",
       "      <td>NaN</td>\n",
       "    </tr>\n",
       "  </tbody>\n",
       "</table>\n",
       "</div>"
      ],
      "text/plain": [
       "            Precipitation\n",
       "Date                     \n",
       "1990-01-31           1.92\n",
       "1990-02-28           0.89\n",
       "1990-03-31            NaN\n",
       "1990-04-30            NaN\n",
       "1990-05-31            NaN"
      ]
     },
     "execution_count": 17,
     "metadata": {},
     "output_type": "execute_result"
    }
   ],
   "source": [
    "dates = pd.date_range(\"1-1-1990\", periods=len(COH726_data), freq=\"M\")\n",
    "dates = pd.to_datetime(dates)\n",
    "COH726[\"Date\"] = dates\n",
    "COH726 = COH726.set_index(\"Date\")\n",
    "COH726 = COH726[['Precipitation']]\n",
    "COH726.head()\n"
   ]
  },
  {
   "cell_type": "markdown",
   "id": "19a263f2",
   "metadata": {},
   "source": [
    "### Print records"
   ]
  }
 ],
 "metadata": {
  "kernelspec": {
   "display_name": "Python 3 (ipykernel)",
   "language": "python",
   "name": "python3"
  },
  "language_info": {
   "codemirror_mode": {
    "name": "ipython",
    "version": 3
   },
   "file_extension": ".py",
   "mimetype": "text/x-python",
   "name": "python",
   "nbconvert_exporter": "python",
   "pygments_lexer": "ipython3",
   "version": "3.9.13"
  }
 },
 "nbformat": 4,
 "nbformat_minor": 5
}
