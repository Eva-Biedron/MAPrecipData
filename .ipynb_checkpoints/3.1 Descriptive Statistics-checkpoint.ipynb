{
 "cells": [
  {
   "cell_type": "markdown",
   "id": "b4cbcc3e",
   "metadata": {},
   "source": [
    "# 3 Data analyses\n",
    "## 3.1 Descriptive statistics\n",
    "\n",
    "This section includes\n",
    "- descriptive statistic calculations inlcuding Shapiro-Wilkes tests of normality (1 table)\n",
    "- Mann-Whitney U-test of distribution similarity (1 figure)\n",
    "\n",
    "\n",
    "### Set up environment"
   ]
  },
  {
   "cell_type": "code",
   "execution_count": 1,
   "id": "28ae3a3e",
   "metadata": {},
   "outputs": [],
   "source": [
    "# Import packages\n",
    "import datetime\n",
    "import matplotlib as mpl\n",
    "import matplotlib.pyplot as plt\n",
    "import numpy as np\n",
    "import pandas as pd\n",
    "\n",
    "from scipy.stats import shapiro \n",
    "from scipy.stats import mannwhitneyu\n"
   ]
  },
  {
   "cell_type": "code",
   "execution_count": 2,
   "id": "b0f420ef",
   "metadata": {},
   "outputs": [],
   "source": [
    "# Load 30-year records from each target station.\n",
    "COH726 = pd.read_csv(r'C:/Users/evamb/OneDrive/Documents/Github/MAPrecipData/Data_Products/COH726_30yr.csv')\n",
    "LYN614 = pd.read_csv(r'C:/Users/evamb/OneDrive/Documents/Github/MAPrecipData/Data_Products/LYN614_30yr.csv')\n",
    "WEY738 = pd.read_csv(r'C:/Users/evamb/OneDrive/Documents/Github/MAPrecipData/Data_Products/WEY738_30yr.csv')\n",
    "\n",
    "# Test: The records are 30 years long.\n",
    "n = 360 # Length of record in months.\n",
    "assert (len(COH726) == n) & (len(LYN614) == n) & (len(WEY738) == n), \"One or more records do not contain exactly 30 years of data.\" \n",
    "\n",
    "# Test: Record lengths are equal across datasets.\n",
    "assert (len(COH726) == len(LYN614)) & (len(WEY738) == len(LYN614)), \"One or more records are unequal lengths.\"\n"
   ]
  },
  {
   "cell_type": "code",
   "execution_count": 3,
   "id": "97b87a2e",
   "metadata": {},
   "outputs": [],
   "source": [
    "# Index all records by date.\n",
    "\n",
    "dates = pd.date_range(\"1-1-1990\", periods=len(COH726), freq=\"M\")\n",
    "dates = pd.to_datetime(dates)\n",
    "\n",
    "COH726[\"Date\"] = dates\n",
    "COH726 = COH726.set_index(\"Date\")\n",
    "COH726 = COH726[['Precipitation']]\n",
    "\n",
    "# Repeat for station LYN614.\n",
    "LYN614[\"Date\"] = dates\n",
    "LYN614 = LYN614.set_index(\"Date\")\n",
    "LYN614 = LYN614[['Precipitation']]\n",
    "\n",
    "# Repeat for station WEY738.\n",
    "WEY738[\"Date\"] = dates\n",
    "WEY738 = WEY738.set_index(\"Date\")\n",
    "WEY738 = WEY738[['Precipitation']]\n"
   ]
  },
  {
   "cell_type": "markdown",
   "id": "aa4e1994",
   "metadata": {},
   "source": [
    "### Calculate descriptive statistics\n",
    "\n",
    "Skew is calculated by pandas as the adjusted Fisher-Pearson standardized moment coefficient G1 (https://github.com/pandas-dev/pandas/blob/a00154dcfe5057cb3fd86653172e74b6893e337d/pandas/core/nanops.py#L540, https://en.wikipedia.org/wiki/Skewness#Sample_skewness). \n"
   ]
  },
  {
   "cell_type": "code",
   "execution_count": 4,
   "id": "5bec4897",
   "metadata": {},
   "outputs": [],
   "source": [
    "def desc_stats_df(station_info):\n",
    "    \"\"\"\n",
    "    This function calculates descriptive statistics for a set of dataframes\n",
    "    and returns these statistics in a new dataframe.\n",
    "    \n",
    "    Arguements:\n",
    "    station_info - a list of lists. The first list should be the dataframes\n",
    "    to calculate statistics on and the second list should be the names of\n",
    "    the stations as strings.\n",
    "    \n",
    "    Returns:\n",
    "    A dataframe of statistics, unindexed (with statistic types in the first \n",
    "    column) and one column per station in station_info.\n",
    "    \n",
    "    \"\"\"\n",
    "    # Unpack input.\n",
    "    target_stations = station_info[0]\n",
    "    station_names = station_info[1]\n",
    "    \n",
    "    # Create dataframe to hold statistics.\n",
    "    statistics = ['Months Reported', 'Mean Precipitation', 'Standard Deviation', \n",
    "                  'Minimum', '25% Quartile', '50% Quartile', '75% Quartile', \n",
    "                  'Maximum', 'Median', 'Mode', 'Kurtosis', 'Skew', 'Normality: statistic', 'Normality: p-value']\n",
    "    all_stats_df = pd.DataFrame(data=statistics, columns=['Statistics'])\n",
    "    \n",
    "    # This counter allows indexing into the station_names list to name the new columns. \n",
    "    counter = 0\n",
    "    \n",
    "    # Calcualte statistics for every station and add to a dataframe.\n",
    "    for station in target_stations:\n",
    "       \n",
    "        # Calculate count mean, standard deviation, and quartiles.\n",
    "        desc_stats = station.describe()\n",
    "        \n",
    "        # Calculate median and mode. \n",
    "        med = station.median()\n",
    "        mod = station.mode()\n",
    "        \n",
    "        # Calculate kurtosis, skew, and Shapiro-Wilkes statistic to evaluate normality.\n",
    "        k = station.kurtosis()\n",
    "        s = station.skew()\n",
    "        test_value, p_value = shapiro(station.dropna())\n",
    "        \n",
    "        # Select only the values and add everything to a list. Round all numbers to 3 decimal places.\n",
    "        data = list(desc_stats.iloc[:,0])\n",
    "        data.extend([med[0], mod.iloc[0][0], k[0], s[0], test_value, p_value])\n",
    "        data = [round(num, 3) for num in data]\n",
    "        \n",
    "        # Add data as new column.\n",
    "        all_stats_df[station_names[counter]] = data\n",
    "        \n",
    "        # Increase counter to use the name of the next station in the next loop.\n",
    "        counter = counter + 1\n",
    "        \n",
    "    return(all_stats_df) \n",
    "    "
   ]
  },
  {
   "cell_type": "code",
   "execution_count": 6,
   "id": "254412aa",
   "metadata": {},
   "outputs": [],
   "source": [
    "# Apply function calculate descriptive statistics.\n",
    "station_info = [[COH726, LYN614, WEY738], ['COH726', 'LYN614', 'WEY738']]\n",
    "station_interest_desc_stats = desc_stats_df(station_info)\n",
    "\n",
    "# Save the file. \n",
    "station_interest_desc_stats.to_csv('C:/Users/evamb/OneDrive/Documents/Github/MAPrecipData/Data_Products/station_interest_desc_stats.csv', index = False)\n",
    "#station_interest_desc_stats\n"
   ]
  },
  {
   "cell_type": "markdown",
   "id": "17685250",
   "metadata": {},
   "source": [
    "### Compare distributions of precipitation values\n",
    "\n",
    "The p-values from the Shapiro-Wilkes test of normality above indicate all the stations' distributions of values are non-normal. I use a non-parametric Mann-Whitney U test to compare means."
   ]
  },
  {
   "cell_type": "code",
   "execution_count": 7,
   "id": "fc58e4a1",
   "metadata": {},
   "outputs": [
    {
     "data": {
      "text/plain": [
       "[MannwhitneyuResult(statistic=array([63190.]), pvalue=array([0.00360971])),\n",
       " MannwhitneyuResult(statistic=array([49502.5]), pvalue=array([0.72971065])),\n",
       " MannwhitneyuResult(statistic=array([45339.5]), pvalue=array([0.01604797]))]"
      ]
     },
     "execution_count": 7,
     "metadata": {},
     "output_type": "execute_result"
    }
   ],
   "source": [
    "# Calculate and return Mann-Whitney U test results for each pair of stations to see if means are different.\n",
    "COH_LYN = mannwhitneyu(COH726, LYN614, nan_policy='omit')\n",
    "COH_WEY = mannwhitneyu(COH726, WEY738, nan_policy='omit')\n",
    "LYN_WEY = mannwhitneyu(LYN614, WEY738, nan_policy='omit')\n",
    "u_results = [COH_LYN, COH_WEY, LYN_WEY]\n",
    "u_results"
   ]
  },
  {
   "cell_type": "code",
   "execution_count": 8,
   "id": "76e2f9d7",
   "metadata": {},
   "outputs": [],
   "source": [
    "# Add all station data to one dataframe for histogram plotting below.\n",
    "all_station_data = pd.concat([COH726, LYN614, WEY738], join='inner', axis = 1)\n",
    "all_station_data.columns = ['COH726', 'LYN614', 'WEY738']\n"
   ]
  },
  {
   "cell_type": "code",
   "execution_count": 10,
   "id": "8cf9307c",
   "metadata": {},
   "outputs": [
    {
     "data": {
      "image/png": "[encoded data removed]",
      "text/plain": [
       "<Figure size 640x480 with 1 Axes>"
      ]
     },
     "metadata": {},
     "output_type": "display_data"
    }
   ],
   "source": [
    "# Plot density of precipitation values for each station.\n",
    "plt.hist(x=all_station_data, bins = range(1,17), density = True, align='left', color = ['silver', 'k', 'steelblue'])\n",
    "plt.xlabel('Monthly Preciptiation (inches)', fontsize=12)\n",
    "plt.ylabel('Density', fontsize=12)\n",
    "plt.title('Density distribution of monthly precipitation values', fontsize=14)\n",
    "plt.legend(['COH726', 'LYN614', 'WEY738'])\n",
    "plt.savefig('C:/Users/evamb/OneDrive/Documents/Github/MAPrecipData/Image_Products/Density-station-precipitation.png')\n"
   ]
  }
 ],
 "metadata": {
  "kernelspec": {
   "display_name": "Python 3 (ipykernel)",
   "language": "python",
   "name": "python3"
  },
  "language_info": {
   "codemirror_mode": {
    "name": "ipython",
    "version": 3
   },
   "file_extension": ".py",
   "mimetype": "text/x-python",
   "name": "python",
   "nbconvert_exporter": "python",
   "pygments_lexer": "ipython3",
   "version": "3.9.13"
  }
 },
 "nbformat": 4,
 "nbformat_minor": 5
}
