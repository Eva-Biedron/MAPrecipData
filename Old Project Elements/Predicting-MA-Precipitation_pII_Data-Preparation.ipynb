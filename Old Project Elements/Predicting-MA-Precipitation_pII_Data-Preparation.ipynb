{
 "cells": [
  {
   "cell_type": "markdown",
   "metadata": {},
   "source": [
    "# II. Data and Preparation\n",
    "\n",
    "This section covers the process of restructuring the original dataset and creating additional variables. \n",
    "\n",
    "### Set up environment\n"
   ]
  },
  {
   "cell_type": "code",
   "execution_count": 3,
   "metadata": {},
   "outputs": [],
   "source": [
    "# Import packages.\n",
    "import numpy as np\n",
    "import pandas as pd\n"
   ]
  },
  {
   "cell_type": "code",
   "execution_count": 2,
   "metadata": {},
   "outputs": [],
   "source": [
    "# Load dataset from local file.\n",
    "precip_data = pd.read_excel(r'C:\\Users\\15414\\Documents\\GitHub\\MA Precip\\MAPrecipData\\Precipitation Database 10.19.xls')\n",
    "# precip_data.head(10)\n"
   ]
  },
  {
   "cell_type": "markdown",
   "metadata": {},
   "source": [
    "### Divide data into separate tables\n",
    "\n",
    "Here, I divide the raw basin, station, and precipitation data into separate tables. This ensures the precipitation data tables are cleaner and easier to understand from a human perspecitive; it also allows for the concatentation of quantifiable summary variables to each categorical geographic element.\n"
   ]
  },
  {
   "cell_type": "code",
   "execution_count": 3,
   "metadata": {},
   "outputs": [],
   "source": [
    "# Create new table from all unique rows in the basin data columns.\n",
    "basin_data = precip_data[['Region', 'Basin Name']]\n",
    "unique_basins = basin_data.drop_duplicates()\n",
    "unique_basins = unique_basins.sort_values(by=['Region', 'Basin Name'])\n",
    "# unique_basins"
   ]
  },
  {
   "cell_type": "code",
   "execution_count": 4,
   "metadata": {},
   "outputs": [],
   "source": [
    "# Create new table from all unique rows in the station data columns.\n",
    "station_data = precip_data[['Region', 'Basin Name', 'CITY', 'STATION']]\n",
    "unique_stations = station_data.drop_duplicates()\n",
    "unique_stations = unique_stations.sort_values(by=['Region', 'Basin Name'])\n",
    "unique_stations = unique_stations.sort_values(by=['STATION']) # Alphabetical sorting is enforced.\n",
    "# unique_stations"
   ]
  },
  {
   "cell_type": "markdown",
   "metadata": {},
   "source": [
    "Within the unique basin table, there are several rows where either the basin or region has a NaN value. I remove these stations since I do not know why categorical geographic information was not applied; stations may be on the boundary of a region or basin, but is not specified."
   ]
  },
  {
   "cell_type": "code",
   "execution_count": 5,
   "metadata": {},
   "outputs": [
    {
     "name": "stdout",
     "output_type": "stream",
     "text": [
      "          Region Basin Name              CITY STATION\n",
      "1111         NaN    MILLERS   South Royalston  BIRCOE\n",
      "1233         NaN  WESTFIELD         Blandford  BORNWS\n",
      "2784         NaN  QUINEBAUG          Fiskdale  EBRCOE\n",
      "3179         NaN        NaN       Fitzwilliam  FIT401\n",
      "7917   Northeast        NaN            Newton  NEW712\n",
      "8287   Northeast        NaN     North Andover  NOR550\n",
      "8295         NaN        NaN  North  Attleboro  NOR800\n",
      "8606   Northeast        NaN           Peabody  PEA611\n",
      "11654    Western        NaN         West Otis  WES101\n"
     ]
    }
   ],
   "source": [
    "# Print stations with NaN data.\n",
    "print(unique_stations.loc[(unique_stations['Region'].isna() | unique_stations['Basin Name'].isna())])\n"
   ]
  },
  {
   "cell_type": "code",
   "execution_count": 6,
   "metadata": {},
   "outputs": [],
   "source": [
    "# Remove precipitation records where baisn or region is not present.\n",
    "precip_data = precip_data.loc[(precip_data['Region'].notna() & \n",
    "                               precip_data['Basin Name'].notna())]\n",
    "      "
   ]
  },
  {
   "cell_type": "code",
   "execution_count": 7,
   "metadata": {},
   "outputs": [],
   "source": [
    "# Remove station records where baisn or region is not present.\n",
    "unique_stations = unique_stations.loc[(unique_stations['Region'].notna() & \n",
    "                                       unique_stations['Basin Name'].notna())]\n"
   ]
  },
  {
   "cell_type": "markdown",
   "metadata": {},
   "source": [
    "Finally, I will remove basin and region data from the precipitation table; this information can be accessed by indexing into the appropirate table using the station name as a key."
   ]
  },
  {
   "cell_type": "code",
   "execution_count": 8,
   "metadata": {},
   "outputs": [],
   "source": [
    "# Remove region and basin data from precipitation dataset.\n",
    "precip_data = precip_data.iloc[:,:-4]\n",
    "# precip_data.head(10)"
   ]
  },
  {
   "cell_type": "markdown",
   "metadata": {},
   "source": [
    "### Restructure precipitation table\n",
    "\n",
    "Sometimes I will need to access the precipitation data by the location of the cell (e.g., the cell at row one, column one) and sometimes by the higher level data associated with that value (e.g., January 1997 at station AMN307). While 2D pandas dataframes can be indexed into using both methods, I find it easier to perform the second method on a table that has been indexed at multiple levels. \n",
    "\n",
    "For this reason, I choose to create two equivalent, but differenlty structured precipitation tables. The first will be completely flattened with numerical index, a single column of precipitation data, and multiple columns of temporal and spatial data. The second will also feature a a single column of precipitation data, but the temporal and spatial data will set as multiple, nested indices. Currently, the data is partially flattened with each month being a separate column; I will unflatten it completely before multi-indexing.\n",
    "\n",
    "<font size=\"1.2\"> Technical note: I will be creating a dataframe with a multi-level index (class: pandas.core.frame.DataFrame), not a multi-index object (class: pandas.core.indexes.multi.MultiIndex). I chose this because converting to a MultiIndex object changed all NaN values to -1 and  dataframes display much more nicely and easily than MultiIndex objects. To display the precip_multi table as a MultiIndex object, use the precip_multi.index command. </font>\n"
   ]
  },
  {
   "cell_type": "code",
   "execution_count": 9,
   "metadata": {},
   "outputs": [],
   "source": [
    "# Flatten precip data by month\n",
    "precips_flat = precip_data.iloc[:,2:].unstack() # Unstack/flatten precip data only.\n",
    "precips_flat = precips_flat.values.tolist()\n"
   ]
  },
  {
   "cell_type": "code",
   "execution_count": 10,
   "metadata": {},
   "outputs": [],
   "source": [
    "# Create month list w/ numeric values. \n",
    "# This will be a new column added to the unstacked precip data.\n",
    "# 1 = Jan, 2 = Feb, etc.\n",
    "months_flat = len(precip_data)*[1,2,3,4,5,6,7,8,9,10,11,12]\n"
   ]
  },
  {
   "cell_type": "code",
   "execution_count": 11,
   "metadata": {},
   "outputs": [],
   "source": [
    "# Add the station and year twelve times for every row to the appropriate list.\n",
    "# These will be new columns added to the unstacked precip data.\n",
    "\n",
    "stations_flat = []\n",
    "years_flat = []\n",
    "\n",
    "table_length = len(precip_data)\n",
    "\n",
    "for row in range(0, table_length):\n",
    "    station_name = [precip_data.iloc[row,0]] # Select station name as list element.\n",
    "    dozen_stations = station_name * 12\n",
    "    stations_flat = stations_flat + (dozen_stations)\n",
    "    \n",
    "    years = [precip_data.iloc[row,1]] # Select year.\n",
    "    dozen_years = years * 12\n",
    "    years_flat = years_flat + (dozen_years)\n"
   ]
  },
  {
   "cell_type": "code",
   "execution_count": 12,
   "metadata": {},
   "outputs": [
    {
     "data": {
      "text/html": [
       "<div>\n",
       "<style scoped>\n",
       "    .dataframe tbody tr th:only-of-type {\n",
       "        vertical-align: middle;\n",
       "    }\n",
       "\n",
       "    .dataframe tbody tr th {\n",
       "        vertical-align: top;\n",
       "    }\n",
       "\n",
       "    .dataframe thead th {\n",
       "        text-align: right;\n",
       "    }\n",
       "</style>\n",
       "<table border=\"1\" class=\"dataframe\">\n",
       "  <thead>\n",
       "    <tr style=\"text-align: right;\">\n",
       "      <th></th>\n",
       "      <th>Station</th>\n",
       "      <th>Year</th>\n",
       "      <th>Month</th>\n",
       "      <th>Precipitation</th>\n",
       "    </tr>\n",
       "  </thead>\n",
       "  <tbody>\n",
       "    <tr>\n",
       "      <th>0</th>\n",
       "      <td>AMH307</td>\n",
       "      <td>1997</td>\n",
       "      <td>1</td>\n",
       "      <td>NaN</td>\n",
       "    </tr>\n",
       "    <tr>\n",
       "      <th>1</th>\n",
       "      <td>AMH307</td>\n",
       "      <td>1997</td>\n",
       "      <td>2</td>\n",
       "      <td>NaN</td>\n",
       "    </tr>\n",
       "  </tbody>\n",
       "</table>\n",
       "</div>"
      ],
      "text/plain": [
       "  Station  Year  Month  Precipitation\n",
       "0  AMH307  1997      1            NaN\n",
       "1  AMH307  1997      2            NaN"
      ]
     },
     "execution_count": 12,
     "metadata": {},
     "output_type": "execute_result"
    }
   ],
   "source": [
    "# Convert the lists to a dictionary.\n",
    "data = {'Station': stations_flat,\n",
    "        'Year': years_flat,\n",
    "        'Month': months_flat,\n",
    "        'Precipitation': precips_flat}\n",
    "\n",
    "# Convert the dictionary to a completely flattened dataframe.\n",
    "precip_flat = pd.DataFrame(data)\n",
    "precip_flat.head(2)"
   ]
  },
  {
   "cell_type": "markdown",
   "metadata": {},
   "source": [
    "Finally, I will index the flattened table by station, year, and month so these varaibles can be mixed and matched by thier values to select data. This is useful when you know what value you want to find, but not where it is."
   ]
  },
  {
   "cell_type": "code",
   "execution_count": 13,
   "metadata": {},
   "outputs": [
    {
     "data": {
      "text/html": [
       "<div>\n",
       "<style scoped>\n",
       "    .dataframe tbody tr th:only-of-type {\n",
       "        vertical-align: middle;\n",
       "    }\n",
       "\n",
       "    .dataframe tbody tr th {\n",
       "        vertical-align: top;\n",
       "    }\n",
       "\n",
       "    .dataframe thead th {\n",
       "        text-align: right;\n",
       "    }\n",
       "</style>\n",
       "<table border=\"1\" class=\"dataframe\">\n",
       "  <thead>\n",
       "    <tr style=\"text-align: right;\">\n",
       "      <th></th>\n",
       "      <th></th>\n",
       "      <th></th>\n",
       "      <th>Precipitation</th>\n",
       "    </tr>\n",
       "    <tr>\n",
       "      <th>Station</th>\n",
       "      <th>Year</th>\n",
       "      <th>Month</th>\n",
       "      <th></th>\n",
       "    </tr>\n",
       "  </thead>\n",
       "  <tbody>\n",
       "    <tr>\n",
       "      <th rowspan=\"2\" valign=\"top\">AMH307</th>\n",
       "      <th rowspan=\"2\" valign=\"top\">1997</th>\n",
       "      <th>1</th>\n",
       "      <td>NaN</td>\n",
       "    </tr>\n",
       "    <tr>\n",
       "      <th>2</th>\n",
       "      <td>NaN</td>\n",
       "    </tr>\n",
       "  </tbody>\n",
       "</table>\n",
       "</div>"
      ],
      "text/plain": [
       "                    Precipitation\n",
       "Station Year Month               \n",
       "AMH307  1997 1                NaN\n",
       "             2                NaN"
      ]
     },
     "execution_count": 13,
     "metadata": {},
     "output_type": "execute_result"
    }
   ],
   "source": [
    "# Set multiple indices in this dataframe.\n",
    "precip_multi = precip_flat.set_index(['Station', 'Year', 'Month'])\n",
    "precip_multi.head(2)"
   ]
  },
  {
   "cell_type": "code",
   "execution_count": 14,
   "metadata": {},
   "outputs": [],
   "source": [
    "# Test if multi-level indexing works.\n",
    "\n",
    "# precip_multi.loc[('AMH307', 'Precipitation')] # Select all records from station AMH307.\n",
    "# precip_multi.loc[('AMH307', 2000), 'Precipitation'] # Select all records from station AMH307 in 1997.\n",
    "# precip_multi.loc[('AMH307', 1997, 3), 'Precipitation'] # Select January record from station AMH307 in 1997.\n",
    "# test = len(precip_multi.loc[('AMH307',)])/12 # Count years of data for station AMH307.\n",
    "# print(f'Station AMH307 has {int(test)} years of data.') "
   ]
  },
  {
   "cell_type": "markdown",
   "metadata": {},
   "source": [
    "## Feature Engineering (Variable Construction)\n",
    "\n",
    "I want to create several additional variables from this data to quantify elements such as record completeness and to identify patterns within the data."
   ]
  },
  {
   "cell_type": "code",
   "execution_count": 15,
   "metadata": {},
   "outputs": [],
   "source": [
    "# Look up the total months recorded and the first and last year reporting data.\n",
    "# Count how many months reported were no-data-collected months.\n",
    "# These will be new columns added to the unique station data.\n",
    "\n",
    "n_months_NaN = []\n",
    "n_months_total = []\n",
    "first_year_reporting = []\n",
    "last_year_reporting = []\n",
    "\n",
    "station_list = unique_stations['STATION']\n",
    "n_stations = len(station_list)\n",
    "\n",
    "for station in range(0, n_stations):\n",
    "    current_station = station_list.iloc[station] # String\n",
    "    \n",
    "    n_months = len(precip_multi.loc[(current_station, ) ]) # Integer\n",
    "    n_months_total.append(n_months)\n",
    "    \n",
    "    stations_earliest_year = precip_flat[precip_flat['Station'] == current_station].min()\n",
    "    stations_earliest_year = stations_earliest_year.iloc[1]\n",
    "    first_year_reporting.append(stations_earliest_year)\n",
    "    \n",
    "    stations_latest_year = precip_flat[precip_flat['Station'] == current_station].max()\n",
    "    stations_latest_year = stations_latest_year.iloc[1]\n",
    "    last_year_reporting.append(stations_latest_year)\n",
    "    \n",
    "    n_nans = 0\n",
    "    for month in range(0, n_months):\n",
    "        current_month = (month % 12) + 1\n",
    "        \n",
    "        current_months_value = precip_multi.loc[(current_station, ), 'Precipitation'].iloc[current_month]\n",
    "        if np.isnan(current_months_value) == True:\n",
    "            n_nans = n_nans + 1\n",
    "    n_months_NaN.append(n_nans)\n",
    "\n",
    "# Add lists as new columns.\n",
    "unique_stations['First_year_collected'] = first_year_reporting\n",
    "unique_stations['Last_year_collected'] = last_year_reporting\n",
    "unique_stations['Months_sampled'] = n_months_total\n",
    "unique_stations['Months_not_reported'] = n_months_NaN\n"
   ]
  },
  {
   "cell_type": "code",
   "execution_count": 16,
   "metadata": {},
   "outputs": [],
   "source": [
    "# Calculate percent of months reporting non-NaN data and add as column. \n",
    "percent_coverage = [1 - (n_months_NaN / n_months_total) for n_months_NaN, n_months_total in zip(n_months_NaN, n_months_total)]\n",
    "unique_stations['Percent_months_reported'] = percent_coverage\n"
   ]
  },
  {
   "cell_type": "markdown",
   "metadata": {},
   "source": [
    "## Export data\n",
    "\n",
    "This process has left us several data products to work with:\n",
    "- precip_flat : a dataframe reporting precipitation by month, year, and station.\n",
    "- precip_multi : a multi-level-indexed dataframe containing the same data as precip_flat.\n",
    "- unique_stations : a dataframe of unique stations and record metadata\n",
    "- unique_basins : a dataframe of unique drainage catchment basins\n",
    "\n",
    "These fours tables are exported as csv files for use in other areas of this analysis. "
   ]
  },
  {
   "cell_type": "code",
   "execution_count": 64,
   "metadata": {},
   "outputs": [],
   "source": [
    "# Save with indices - that's the point.\n",
    "precip_multi.to_csv(r'C:\\Users\\15414\\Documents\\GitHub\\MA Precip\\MAPrecipData\\Products\\precip_multi.csv')\n",
    "\n",
    "# Indices not preserved.\n",
    "precip_flat.to_csv(r'C:\\Users\\15414\\Documents\\GitHub\\MA Precip\\MAPrecipData\\Products\\precip_flat.csv', index=False)\n",
    "unique_stations.to_csv(r'C:\\Users\\15414\\Documents\\GitHub\\MA Precip\\MAPrecipData\\Products\\unique_stations.csv', index=False)\n",
    "unique_basins.to_csv(r'C:\\Users\\15414\\Documents\\GitHub\\MA Precip\\MAPrecipData\\Products\\unique_basins.csv', index=False)\n",
    "lynn_data_30yr.to_csv(r'C:\\Users\\15414\\Documents\\GitHub\\MA Precip\\MAPrecipData\\Products\\lynn_data_30yr.csv', index=False)\n"
   ]
  },
  {
   "cell_type": "markdown",
   "metadata": {},
   "source": [
    "Statistical analyses are conducted and figures construsted in PII. Context and discussion in P1. "
   ]
  }
 ],
 "metadata": {
  "kernelspec": {
   "display_name": "Python 3 (ipykernel)",
   "language": "python",
   "name": "python3"
  },
  "language_info": {
   "codemirror_mode": {
    "name": "ipython",
    "version": 3
   },
   "file_extension": ".py",
   "mimetype": "text/x-python",
   "name": "python",
   "nbconvert_exporter": "python",
   "pygments_lexer": "ipython3",
   "version": "3.9.13"
  }
 },
 "nbformat": 4,
 "nbformat_minor": 2
}
